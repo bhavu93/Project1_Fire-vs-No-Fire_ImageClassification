{
  "nbformat": 4,
  "nbformat_minor": 0,
  "metadata": {
    "accelerator": "GPU",
    "colab": {
      "name": "CE888.ipynb",
      "provenance": [],
      "collapsed_sections": [],
      "toc_visible": true,
      "include_colab_link": true
    },
    "kernelspec": {
      "display_name": "Python 3",
      "name": "python3"
    },
    "language_info": {
      "name": "python"
    }
  },
  "cells": [
    {
      "cell_type": "markdown",
      "metadata": {
        "id": "view-in-github",
        "colab_type": "text"
      },
      "source": [
        "<a href=\"https://colab.research.google.com/github/bhavu93/Project1_Fire-vs-No-Fire_ImageClassification/blob/main/CE888.ipynb\" target=\"_parent\"><img src=\"https://colab.research.google.com/assets/colab-badge.svg\" alt=\"Open In Colab\"/></a>"
      ]
    },
    {
      "cell_type": "markdown",
      "metadata": {
        "id": "QsjR4qelkEdi"
      },
      "source": [
        "#**Wildfire In The Forest Image Classification** "
      ]
    },
    {
      "cell_type": "markdown",
      "metadata": {
        "id": "Gbhf9DXXkjns"
      },
      "source": [
        "This program is use to train detect the fire in the forest by the drone"
      ]
    },
    {
      "cell_type": "markdown",
      "metadata": {
        "id": "YJOrsirokx1B"
      },
      "source": [
        "Now for this first we need to mount the drive, where we uploded the frems and get access directly to the colabs"
      ]
    },
    {
      "cell_type": "code",
      "metadata": {
        "id": "LGlr9Adcj0dQ",
        "colab": {
          "base_uri": "https://localhost:8080/"
        },
        "outputId": "713466cf-bea4-496f-9ef1-01d2fb7aab00"
      },
      "source": [
        "from google.colab import drive\n",
        "drive.mount('/content/drive')"
      ],
      "execution_count": null,
      "outputs": [
        {
          "output_type": "stream",
          "text": [
            "Drive already mounted at /content/drive; to attempt to forcibly remount, call drive.mount(\"/content/drive\", force_remount=True).\n"
          ],
          "name": "stdout"
        }
      ]
    },
    {
      "cell_type": "markdown",
      "metadata": {
        "id": "PTf0RIy3lKPe"
      },
      "source": [
        "Now there is so many pre define libararys are and models are avilable in python that we can train and get the preferd output, but it will take some time, Now Imports some library"
      ]
    },
    {
      "cell_type": "code",
      "metadata": {
        "id": "OWGtwjtFkw83"
      },
      "source": [
        "from keras.preprocessing.image import ImageDataGenerator\n",
        "from keras.models import Sequential\n",
        "from keras.layers import Conv2D, MaxPooling2D\n",
        "from keras.layers import Activation, Dropout, Flatten, Dense, SpatialDropout2D\n",
        "from keras import backend as K\n",
        "from keras.callbacks import ModelCheckpoint, LearningRateScheduler, TensorBoard, EarlyStopping\n",
        "from keras.constraints import max_norm\n",
        "import numpy as np\n",
        "from tensorflow.keras.layers import BatchNormalization\n"
      ],
      "execution_count": null,
      "outputs": []
    },
    {
      "cell_type": "markdown",
      "metadata": {
        "id": "9IYd9DVslnQm"
      },
      "source": [
        "first define the dimention of the image, which size of image we are going to proceed"
      ]
    },
    {
      "cell_type": "code",
      "metadata": {
        "id": "F7B8aupcl3-P"
      },
      "source": [
        "image_Width, image_Hight = 128, 128\n",
        "input_shape = (image_Width, image_Hight, 3)"
      ],
      "execution_count": null,
      "outputs": []
    },
    {
      "cell_type": "markdown",
      "metadata": {
        "id": "e97NiopUmdE3"
      },
      "source": [
        "#Get data from the Drive"
      ]
    },
    {
      "cell_type": "code",
      "metadata": {
        "id": "ORqayWDqmduP"
      },
      "source": [
        "train_data = '/content/drive/MyDrive/Fire-Vs-No-Fire/Training'\n",
        "test_data = '/content/drive/MyDrive/Fire-Vs-No-Fire/Test'\n",
        "train_images = 39399\n",
        "tast_images = 8617\n",
        "#epochs = 2\n",
        "batch_size = 16"
      ],
      "execution_count": null,
      "outputs": []
    },
    {
      "cell_type": "markdown",
      "metadata": {
        "id": "gBfTSSbanAP5"
      },
      "source": [
        "#Define the modal input and output."
      ]
    },
    {
      "cell_type": "code",
      "metadata": {
        "id": "UL2beRfTnA0y"
      },
      "source": [
        "model = Sequential()\n",
        "model.add(Conv2D(32, (3, 3), input_shape=input_shape))\n",
        "model.add(BatchNormalization())\n",
        "model.add(Activation('relu'))\n",
        "model.add(MaxPooling2D(pool_size=(2, 2)))\n",
        "model.add(Conv2D(32, (3, 3), kernel_constraint=max_norm(3), bias_constraint=max_norm(3)))\n",
        "model.add(BatchNormalization())\n",
        "model.add(Activation('relu'))\n",
        "model.add(MaxPooling2D(pool_size=(2, 2)))\n",
        "model.add(Conv2D(64, (3, 3), kernel_constraint=max_norm(3), bias_constraint=max_norm(3)))\n",
        "model.add(BatchNormalization())\n",
        "model.add(Activation('relu'))\n",
        "model.add(MaxPooling2D(pool_size=(2, 2)))\n",
        "model.add(Conv2D(128, (3, 3), kernel_constraint=max_norm(3), bias_constraint=max_norm(3)))\n",
        "model.add(BatchNormalization())\n",
        "model.add(Activation('relu'))\n",
        "model.add(MaxPooling2D(pool_size=(2, 2)))\n",
        "model.add(Dropout(0.25))\n",
        "model.add(Flatten())\n",
        "model.add(Dense(64))\n",
        "model.add(Activation('relu'))\n",
        "model.add(Dropout(0.5))\n",
        "model.add(Dense(1))\n",
        "model.add(Activation('sigmoid'))\n"
      ],
      "execution_count": null,
      "outputs": []
    },
    {
      "cell_type": "markdown",
      "metadata": {
        "id": "RtGUa7tBoMG3"
      },
      "source": [
        "#Lets Compile The modal and check summery of modal\n",
        "\n"
      ]
    },
    {
      "cell_type": "code",
      "metadata": {
        "id": "Fv_H-wnroMlL",
        "colab": {
          "base_uri": "https://localhost:8080/"
        },
        "outputId": "431eceeb-08e7-4b6c-b405-1c361b9f3f9d"
      },
      "source": [
        "model.compile(loss='binary_crossentropy',\n",
        "              optimizer='rmsprop',\n",
        "              metrics=['accuracy'])\n",
        "#Summary Of model\n",
        "model.summary()"
      ],
      "execution_count": null,
      "outputs": [
        {
          "output_type": "stream",
          "text": [
            "Model: \"sequential_1\"\n",
            "_________________________________________________________________\n",
            "Layer (type)                 Output Shape              Param #   \n",
            "=================================================================\n",
            "conv2d_4 (Conv2D)            (None, 126, 126, 32)      896       \n",
            "_________________________________________________________________\n",
            "batch_normalization_4 (Batch (None, 126, 126, 32)      128       \n",
            "_________________________________________________________________\n",
            "activation_6 (Activation)    (None, 126, 126, 32)      0         \n",
            "_________________________________________________________________\n",
            "max_pooling2d_4 (MaxPooling2 (None, 63, 63, 32)        0         \n",
            "_________________________________________________________________\n",
            "conv2d_5 (Conv2D)            (None, 61, 61, 32)        9248      \n",
            "_________________________________________________________________\n",
            "batch_normalization_5 (Batch (None, 61, 61, 32)        128       \n",
            "_________________________________________________________________\n",
            "activation_7 (Activation)    (None, 61, 61, 32)        0         \n",
            "_________________________________________________________________\n",
            "max_pooling2d_5 (MaxPooling2 (None, 30, 30, 32)        0         \n",
            "_________________________________________________________________\n",
            "conv2d_6 (Conv2D)            (None, 28, 28, 64)        18496     \n",
            "_________________________________________________________________\n",
            "batch_normalization_6 (Batch (None, 28, 28, 64)        256       \n",
            "_________________________________________________________________\n",
            "activation_8 (Activation)    (None, 28, 28, 64)        0         \n",
            "_________________________________________________________________\n",
            "max_pooling2d_6 (MaxPooling2 (None, 14, 14, 64)        0         \n",
            "_________________________________________________________________\n",
            "conv2d_7 (Conv2D)            (None, 12, 12, 128)       73856     \n",
            "_________________________________________________________________\n",
            "batch_normalization_7 (Batch (None, 12, 12, 128)       512       \n",
            "_________________________________________________________________\n",
            "activation_9 (Activation)    (None, 12, 12, 128)       0         \n",
            "_________________________________________________________________\n",
            "max_pooling2d_7 (MaxPooling2 (None, 6, 6, 128)         0         \n",
            "_________________________________________________________________\n",
            "dropout_2 (Dropout)          (None, 6, 6, 128)         0         \n",
            "_________________________________________________________________\n",
            "flatten_1 (Flatten)          (None, 4608)              0         \n",
            "_________________________________________________________________\n",
            "dense_2 (Dense)              (None, 64)                294976    \n",
            "_________________________________________________________________\n",
            "activation_10 (Activation)   (None, 64)                0         \n",
            "_________________________________________________________________\n",
            "dropout_3 (Dropout)          (None, 64)                0         \n",
            "_________________________________________________________________\n",
            "dense_3 (Dense)              (None, 1)                 65        \n",
            "_________________________________________________________________\n",
            "activation_11 (Activation)   (None, 1)                 0         \n",
            "=================================================================\n",
            "Total params: 398,561\n",
            "Trainable params: 398,049\n",
            "Non-trainable params: 512\n",
            "_________________________________________________________________\n"
          ],
          "name": "stdout"
        }
      ]
    },
    {
      "cell_type": "markdown",
      "metadata": {
        "id": "Oxg62Dp1ob6Z"
      },
      "source": [
        "Augmentation of train data and rescaling of the test data"
      ]
    },
    {
      "cell_type": "code",
      "metadata": {
        "id": "XoQkQd5jocLY"
      },
      "source": [
        "trainimagedata = ImageDataGenerator(\n",
        "    rescale=1. / 255,\n",
        "    shear_range=0.2,\n",
        "    zoom_range=0.2,\n",
        "    horizontal_flip=True,)\n",
        "\n",
        "testimagedata = ImageDataGenerator(rescale=1. / 255)"
      ],
      "execution_count": null,
      "outputs": []
    },
    {
      "cell_type": "markdown",
      "metadata": {
        "id": "kf35hwKQpjK5"
      },
      "source": [
        "For traning image"
      ]
    },
    {
      "cell_type": "code",
      "metadata": {
        "colab": {
          "base_uri": "https://localhost:8080/"
        },
        "id": "9AWTxqv4pjvV",
        "outputId": "d793de20-09b1-4afa-afa7-491094b21a4f"
      },
      "source": [
        "trainimagedata = trainimagedata.flow_from_directory(\n",
        "    train_data,\n",
        "    target_size=(image_Width, image_Hight),\n",
        "    batch_size=batch_size,\n",
        "    class_mode='binary')"
      ],
      "execution_count": null,
      "outputs": [
        {
          "output_type": "stream",
          "text": [
            "Found 39399 images belonging to 2 classes.\n"
          ],
          "name": "stdout"
        }
      ]
    },
    {
      "cell_type": "markdown",
      "metadata": {
        "id": "xXnI9lU8p0Vk"
      },
      "source": [
        "For testing image"
      ]
    },
    {
      "cell_type": "code",
      "metadata": {
        "id": "GbDeDohgp03J",
        "colab": {
          "base_uri": "https://localhost:8080/"
        },
        "outputId": "47b401c9-4784-44fc-b869-44690763d641"
      },
      "source": [
        "testimagedata = testimagedata.flow_from_directory(\n",
        "    test_data,\n",
        "    target_size=(image_Width, image_Hight),\n",
        "    batch_size=batch_size,\n",
        "    class_mode='binary')"
      ],
      "execution_count": null,
      "outputs": [
        {
          "output_type": "stream",
          "text": [
            "Found 8617 images belonging to 2 classes.\n"
          ],
          "name": "stdout"
        }
      ]
    },
    {
      "cell_type": "markdown",
      "metadata": {
        "id": "lgYIj4DArrJT"
      },
      "source": [
        ""
      ]
    },
    {
      "cell_type": "code",
      "metadata": {
        "id": "sutSPWjGrr6C",
        "colab": {
          "base_uri": "https://localhost:8080/"
        },
        "outputId": "7580d47e-4cd5-4c5c-ccdd-aa7a538d67fc"
      },
      "source": [
        "history = model.fit_generator(\n",
        "    trainimagedata,\n",
        "    steps_per_epoch=train_images // batch_size,\n",
        "    epochs=2,\n",
        "    validation_data=testimagedata,\n",
        "    validation_steps=tast_images // batch_size)"
      ],
      "execution_count": null,
      "outputs": [
        {
          "output_type": "stream",
          "text": [
            "/usr/local/lib/python3.7/dist-packages/tensorflow/python/keras/engine/training.py:1844: UserWarning: `Model.fit_generator` is deprecated and will be removed in a future version. Please use `Model.fit`, which supports generators.\n",
            "  warnings.warn('`Model.fit_generator` is deprecated and '\n"
          ],
          "name": "stderr"
        },
        {
          "output_type": "stream",
          "text": [
            "Epoch 1/2\n",
            "2462/2462 [==============================] - 11285s 5s/step - loss: 0.2128 - accuracy: 0.9527 - val_loss: 5.8387 - val_accuracy: 0.6176\n",
            "Epoch 2/2\n",
            "2462/2462 [==============================] - 266s 108ms/step - loss: 0.0733 - accuracy: 0.9814 - val_loss: 3.3547 - val_accuracy: 0.7103\n"
          ],
          "name": "stdout"
        }
      ]
    },
    {
      "cell_type": "code",
      "metadata": {
        "id": "wo0IXL4T-e97"
      },
      "source": [
        "model.save('fire_detection_model.h5')"
      ],
      "execution_count": null,
      "outputs": []
    },
    {
      "cell_type": "markdown",
      "metadata": {
        "id": "9Tx9Rw7ttr1b"
      },
      "source": [
        "#summarize the accuracy and history\n",
        "#check all data history"
      ]
    },
    {
      "cell_type": "code",
      "metadata": {
        "id": "2CZQGTy4-qIT",
        "colab": {
          "base_uri": "https://localhost:8080/",
          "height": 590
        },
        "outputId": "a578b6cc-48c5-4202-8512-ab58d6183814"
      },
      "source": [
        "import matplotlib.pyplot as plt\n",
        "%matplotlib inline\n",
        "print(history.history.keys())\n",
        "plt.plot(history.history['accuracy'])\n",
        "plt.plot(history.history['val_accuracy'])\n",
        "plt.title('model accuracy')\n",
        "plt.ylabel('accuracy')\n",
        "plt.xlabel('epoch')\n",
        "plt.legend(['train', 'test'], loc='upper left')\n",
        "plt.show()\n",
        "plt.plot(history.history['loss'])\n",
        "plt.plot(history.history['val_loss'])\n",
        "plt.title('model loss')\n",
        "plt.ylabel('loss')\n",
        "plt.xlabel('epoch')\n",
        "plt.legend(['train', 'test'], loc='upper left')\n",
        "plt.show()"
      ],
      "execution_count": null,
      "outputs": [
        {
          "output_type": "stream",
          "text": [
            "dict_keys(['loss', 'accuracy', 'val_loss', 'val_accuracy'])\n"
          ],
          "name": "stdout"
        },
        {
          "output_type": "display_data",
          "data": {
            "image/png": "[encoded data removed]",
            "text/plain": [
              "<Figure size 432x288 with 1 Axes>"
            ]
          },
          "metadata": {
            "tags": [],
            "needs_background": "light"
          }
        },
        {
          "output_type": "display_data",
          "data": {
            "image/png": "[encoded data removed]",
            "text/plain": [
              "<Figure size 432x288 with 1 Axes>"
            ]
          },
          "metadata": {
            "tags": [],
            "needs_background": "light"
          }
        }
      ]
    },
    {
      "cell_type": "code",
      "metadata": {
        "id": "8qzOuinq-xKM"
      },
      "source": [
        "import matplotlib.pyplot as plt"
      ],
      "execution_count": null,
      "outputs": []
    },
    {
      "cell_type": "code",
      "metadata": {
        "id": "cs-HcygR-4gO",
        "colab": {
          "base_uri": "https://localhost:8080/",
          "height": 282
        },
        "outputId": "490118d4-ed4d-4196-c7b9-2bbffc3cc186"
      },
      "source": [
        "plt.plot(history.history['loss'], label='train loss')"
      ],
      "execution_count": null,
      "outputs": [
        {
          "output_type": "execute_result",
          "data": {
            "text/plain": [
              "[<matplotlib.lines.Line2D at 0x7f9d5300e850>]"
            ]
          },
          "metadata": {
            "tags": []
          },
          "execution_count": 26
        },
        {
          "output_type": "display_data",
          "data": {
            "image/png": "[encoded data removed]",
            "text/plain": [
              "<Figure size 432x288 with 1 Axes>"
            ]
          },
          "metadata": {
            "tags": [],
            "needs_background": "light"
          }
        }
      ]
    },
    {
      "cell_type": "code",
      "metadata": {
        "id": "U8cYcPBm-9WB",
        "colab": {
          "base_uri": "https://localhost:8080/"
        },
        "outputId": "904f3e07-2b98-45fa-b7cc-1eff35a07b5f"
      },
      "source": [
        "import numpy as np\n",
        "from sklearn.metrics import classification_report, confusion_matrix\n",
        "Y_pred = model.predict_generator(testimagedata, tast_images // batch_size+1)\n",
        "y_pred = np.argmax(Y_pred, axis=1)\n",
        "print('Confusion Matrix')\n",
        "print(confusion_matrix(testimagedata.classes, y_pred))\n",
        "print('Classification Report')\n",
        "target_names = ['Fire', 'No Fire']\n",
        "print(classification_report(testimagedata.classes, y_pred, target_names=target_names))"
      ],
      "execution_count": null,
      "outputs": [
        {
          "output_type": "stream",
          "text": [
            "/usr/local/lib/python3.7/dist-packages/tensorflow/python/keras/engine/training.py:1905: UserWarning: `Model.predict_generator` is deprecated and will be removed in a future version. Please use `Model.predict`, which supports generators.\n",
            "  warnings.warn('`Model.predict_generator` is deprecated and '\n"
          ],
          "name": "stderr"
        },
        {
          "output_type": "stream",
          "text": [
            "Confusion Matrix\n",
            "[[5137    0]\n",
            " [3480    0]]\n",
            "Classification Report\n",
            "              precision    recall  f1-score   support\n",
            "\n",
            "        Fire       0.60      1.00      0.75      5137\n",
            "     No Fire       0.00      0.00      0.00      3480\n",
            "\n",
            "    accuracy                           0.60      8617\n",
            "   macro avg       0.30      0.50      0.37      8617\n",
            "weighted avg       0.36      0.60      0.45      8617\n",
            "\n"
          ],
          "name": "stdout"
        },
        {
          "output_type": "stream",
          "text": [
            "/usr/local/lib/python3.7/dist-packages/sklearn/metrics/_classification.py:1272: UndefinedMetricWarning: Precision and F-score are ill-defined and being set to 0.0 in labels with no predicted samples. Use `zero_division` parameter to control this behavior.\n",
            "  _warn_prf(average, modifier, msg_start, len(result))\n"
          ],
          "name": "stderr"
        }
      ]
    }
  ]
}